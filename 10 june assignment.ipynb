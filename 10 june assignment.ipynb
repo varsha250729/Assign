{
 "cells": [
  {
   "cell_type": "code",
   "execution_count": null,
   "id": "b69f2147",
   "metadata": {},
   "outputs": [],
   "source": [
    "\n",
    "###1. In Python, what is the difference between a built-in function and a user-defined function? Provide an example of each.\n",
    "# Ans:- Built in Function:- Built in function are functions that are provided by Python itself. \n",
    "#They are readily available for use without requiring any additional code to be written. \n"
   ]
  },
  {
   "cell_type": "code",
   "execution_count": 1,
   "id": "2f09defc",
   "metadata": {},
   "outputs": [
    {
     "name": "stdout",
     "output_type": "stream",
     "text": [
      "5\n"
     ]
    }
   ],
   "source": [
    "my_list = [1, 2, 3, 4, 5]\n",
    "length = len(my_list)\n",
    "print(length) "
   ]
  },
  {
   "cell_type": "code",
   "execution_count": null,
   "id": "946c2c41",
   "metadata": {},
   "outputs": [],
   "source": [
    "# User defined function:- A user-defined function in Python is a code block that performs a specific \n",
    "#task and is defined by the programmer. User-defined functions are created with the def keyword \n",
    "#followed by a function name of our choosing. "
   ]
  },
  {
   "cell_type": "code",
   "execution_count": 2,
   "id": "da6e4c53",
   "metadata": {},
   "outputs": [
    {
     "name": "stdout",
     "output_type": "stream",
     "text": [
      "Hello, this is my first function\n"
     ]
    }
   ],
   "source": [
    "def introduction():\n",
    "  print(\"Hello, this is my first function\")\n",
    "\n",
    "# Call function\n",
    "introduction()"
   ]
  },
  {
   "cell_type": "code",
   "execution_count": 3,
   "id": "da91d491",
   "metadata": {},
   "outputs": [
    {
     "name": "stdout",
     "output_type": "stream",
     "text": [
      "Hello, Alice! You are 35 years old.\n"
     ]
    }
   ],
   "source": [
    "## # Q-2 How can you pass arguments to a function in Python? Explain the difference between positional arguments and keyword arguments.\n",
    "\n",
    "# Ans:- In Python , We can pass arguments to a function to provide it with necessary data it needs to perform its task. \n",
    "# Positional Arguments:-It is the most basic way to pass arguments to a function.\n",
    "               #They are specified in order in which the parameters are defined in the function’s parameter list.\n",
    "   # The value passed as positional arguments are assigned to the corresponding parameters based on their position. \n",
    "\n",
    "def intro(name, age):\n",
    "    print(f\"Hello, {name}! You are {age} years old.\")\n",
    "\n",
    "intro(\"Alice\", 35)"
   ]
  },
  {
   "cell_type": "code",
   "execution_count": 4,
   "id": "d164ecf6",
   "metadata": {},
   "outputs": [
    {
     "name": "stdout",
     "output_type": "stream",
     "text": [
      "Hello, Alice! You are 35 years old.\n"
     ]
    }
   ],
   "source": [
    "# Keyword Arguments:- Keyword arguments allow us to specify which parameter each value is assigned to. Instead of relying on the order , we use the parameter names followed by the \n",
    "#assignment operator(=) to indicate which value corresponds to which parameter. \n",
    "\n",
    "def intro(name, age):\n",
    "    print(f\"Hello, {name}! You are {age} years old.\")\n",
    "\n",
    "intro(age= 35, name= \"Alice\")"
   ]
  },
  {
   "cell_type": "code",
   "execution_count": 8,
   "id": "352b29c3",
   "metadata": {},
   "outputs": [],
   "source": [
    "#Q-3 What is the purpose of the return statement in a function? Can a function have multiple return statements? Explain with an example.\n",
    "\n",
    "#Ans:- \n",
    "#The return statement is crucial in user-defined functions as it enables the functions to \n",
    "#produce outputs, pass data, allow result reusability, handle conditional returns, and control \n",
    "#the flow of the function's execution. \n",
    "#The return statement in a function serves the purpose of sending a value back to the caller of \n",
    "#the function .when a function is called & it encounters a return statement , the function’s \n",
    "#execution is halted & the value specified in the return statement is sent back to the caller. \n",
    "#Yes , a function can have multiple return statements\n",
    "\n"
   ]
  },
  {
   "cell_type": "code",
   "execution_count": 10,
   "id": "2f766a62",
   "metadata": {},
   "outputs": [
    {
     "name": "stdout",
     "output_type": "stream",
     "text": [
      "The student's grade is: B\n"
     ]
    }
   ],
   "source": [
    "def get_grade(score):\n",
    "    if score >= 90:\n",
    "        return \"A\"  # First return statement\n",
    "    elif score >= 80:\n",
    "        return \"B\"  # Second return statement\n",
    "    elif score >= 70:\n",
    "        return \"C\"  # Third return statement\n",
    "    elif score >= 60:\n",
    "        return \"D\"  # Fourth return statement\n",
    "    else:\n",
    "        return \"F\"  # Fifth return statement\n",
    "\n",
    "# Testing the function\n",
    "student_score = 85\n",
    "grade = get_grade(student_score)\n",
    "print(f\"The student's grade is: {grade}\")"
   ]
  },
  {
   "cell_type": "code",
   "execution_count": 11,
   "id": "4353a420",
   "metadata": {},
   "outputs": [
    {
     "name": "stdout",
     "output_type": "stream",
     "text": [
      "The student's grade is: D\n"
     ]
    }
   ],
   "source": [
    "student_score = 65\n",
    "grade = get_grade(student_score)\n",
    "print(f\"The student's grade is: {grade}\")"
   ]
  },
  {
   "cell_type": "code",
   "execution_count": null,
   "id": "88b89d03",
   "metadata": {},
   "outputs": [],
   "source": [
    "# Q4. What are lambda functions in Python? How are they different from regular functions? Provide an example where a lambda function can be useful. \n",
    " \n",
    "#Ans:-Here are some key points about lambda functions in Python, each point is a one-liner: \n",
    "#1. Lambda functions are small, anonymous functions defined with the lambda keyword. \n",
    "#2. They can take any number of arguments but can only have one expression. \n",
    "#3. The expression is evaluated and returned when the function is called. \n",
    "#4. Lambda functions do not require a return statement, the expression is implicitly returned. \n",
    "#5. You can't include statements like loops, if or else in lambda functions; only expressions are allowed. \n",
    "#6. Lambda functions are useful for small tasks that are not reused throughout your code. \n",
    "#7. They can be assigned to variables and used like regular functions. \n",
    "#Difference :- Lambda functions are typically more concise & are defined in a single line . \n",
    "#Regular functions have more structured syntax with a formal header & the use of return keywords. \n",
    "#Lambda functions can only contain a single expression, while regular functions can have multiple statement & more complex logic. "
   ]
  },
  {
   "cell_type": "code",
   "execution_count": 12,
   "id": "76b145db",
   "metadata": {},
   "outputs": [
    {
     "name": "stdout",
     "output_type": "stream",
     "text": [
      "['date', 'apple', 'banana', 'cherry', 'elderberry']\n"
     ]
    }
   ],
   "source": [
    "words = [\"apple\", \"banana\", \"cherry\", \"date\", \"elderberry\"]\n",
    "\n",
    "# Using a lambda function to sort words based on their lengths\n",
    "sorted_words = sorted(words, key=lambda word: len(word))\n",
    "\n",
    "print(sorted_words)"
   ]
  },
  {
   "cell_type": "code",
   "execution_count": null,
   "id": "f33f58d2",
   "metadata": {},
   "outputs": [],
   "source": [
    "# Q5. How does the concept of \"scope\" apply to functions in Python? Explain the difference between local scope and global scope. \n",
    "#Ans:- In Python the concept of \"scope\" refers to the region in which a variable or name is accessible . \n",
    "#It defines the context in which variables can be accessed, modified or referenced. \n",
    "#Local Scope:- When we define a variable inside a function, that variable has local scope. It means the variable is only accessible within that specific function.\n",
    "#Once the function finishes executing, the local variables within it are destroyed and cannot be accessed from outside the function. "
   ]
  },
  {
   "cell_type": "code",
   "execution_count": 13,
   "id": "b16e2471",
   "metadata": {},
   "outputs": [
    {
     "name": "stdout",
     "output_type": "stream",
     "text": [
      "10\n"
     ]
    }
   ],
   "source": [
    "def my_function():\n",
    "    x = 10  # x has local scope within my_function\n",
    "    print(x)\n",
    "\n",
    "my_function()\n"
   ]
  },
  {
   "cell_type": "code",
   "execution_count": 14,
   "id": "04122d33",
   "metadata": {},
   "outputs": [
    {
     "name": "stdout",
     "output_type": "stream",
     "text": [
      "10\n"
     ]
    },
    {
     "ename": "NameError",
     "evalue": "name 'X' is not defined",
     "output_type": "error",
     "traceback": [
      "\u001b[1;31m---------------------------------------------------------------------------\u001b[0m",
      "\u001b[1;31mNameError\u001b[0m                                 Traceback (most recent call last)",
      "Cell \u001b[1;32mIn[14], line 6\u001b[0m\n\u001b[0;32m      3\u001b[0m     \u001b[38;5;28mprint\u001b[39m(x)\n\u001b[0;32m      5\u001b[0m my_function()\n\u001b[1;32m----> 6\u001b[0m \u001b[38;5;28mprint\u001b[39m(\u001b[43mX\u001b[49m)\n",
      "\u001b[1;31mNameError\u001b[0m: name 'X' is not defined"
     ]
    }
   ],
   "source": [
    "def my_function():\n",
    "    x = 10  # x has local scope within my_function\n",
    "    print(x)\n",
    "\n",
    "my_function()\n",
    "print(X)"
   ]
  },
  {
   "cell_type": "code",
   "execution_count": null,
   "id": "81aa4d8a",
   "metadata": {},
   "outputs": [],
   "source": [
    "#Global Scope: Variables defined outside of any function have global scope. They can be accessed \n",
    "#from anywhere in the code, both within functions and outside functions. Global variables are useful for \n",
    "#storing values that need to be shared among multiple functions or for maintaining state throughout the \n",
    "#program. However, modifying global variables from within a function requires using the global keyword. "
   ]
  },
  {
   "cell_type": "code",
   "execution_count": 15,
   "id": "bf9e0bed",
   "metadata": {},
   "outputs": [
    {
     "name": "stdout",
     "output_type": "stream",
     "text": [
      "20\n",
      "30\n"
     ]
    }
   ],
   "source": [
    "y = 20  \n",
    "\n",
    "def another_function():\n",
    "    global y\n",
    "    y = 30  # Modifying the global y variable\n",
    "\n",
    "print(y)  # Prints 20\n",
    "another_function()\n",
    "print(y)  # Prints 30"
   ]
  },
  {
   "cell_type": "code",
   "execution_count": 16,
   "id": "f1861b3b",
   "metadata": {},
   "outputs": [
    {
     "data": {
      "text/plain": [
       "(10, 'Hello', [1, 2, 3])"
      ]
     },
     "execution_count": 16,
     "metadata": {},
     "output_type": "execute_result"
    }
   ],
   "source": [
    "#Q 6. How can you use the \"return\" statement in a Python function to return multiple values? \n",
    "\n",
    "def multiple_values():\n",
    "    value1 = 10\n",
    "    value2 = 'Hello'\n",
    "    value3 = [1, 2, 3]\n",
    "    \n",
    "    return value1, value2, value3\n",
    "multiple_values()\n"
   ]
  },
  {
   "cell_type": "code",
   "execution_count": null,
   "id": "5d191cc0",
   "metadata": {},
   "outputs": [],
   "source": [
    "#Q7. What is the difference between the \"pass by value\" and \"pass by reference\" concepts when it comes to function arguments in Python? \n",
    "#Ans:- \n",
    "#When we pass function arguments by reference, those arguments are only references to existing values. \n",
    "#In contrast, when we pass arguments by value, those arguments become independent copies of the original values. "
   ]
  },
  {
   "cell_type": "code",
   "execution_count": 17,
   "id": "87a42aed",
   "metadata": {},
   "outputs": [
    {
     "name": "stdout",
     "output_type": "stream",
     "text": [
      "Before function call  100\n",
      "Inside function call  200\n",
      "After function call  100\n"
     ]
    }
   ],
   "source": [
    "def function(int):\n",
    "  int+=100\n",
    "  print(\"Inside function call \",int)\n",
    "\n",
    "int=100\n",
    "print(\"Before function call \",int)\n",
    "function(int)\n",
    "print(\"After function call \",int)"
   ]
  },
  {
   "cell_type": "code",
   "execution_count": 18,
   "id": "ee235d3c",
   "metadata": {},
   "outputs": [
    {
     "name": "stdout",
     "output_type": "stream",
     "text": [
      "Before function call ['100']\n",
      "Inside function call ['100', '100']\n",
      "After function call ['100', '100']\n"
     ]
    }
   ],
   "source": [
    "def function(int):\n",
    "    int.append('100')\n",
    "    print(\"Inside function call\",int)\n",
    "    \n",
    "int=['100']\n",
    "print(\"Before function call\",int)\n",
    "function(int)\n",
    "print(\"After function call\",int)"
   ]
  },
  {
   "cell_type": "code",
   "execution_count": 19,
   "id": "99c25f79",
   "metadata": {},
   "outputs": [
    {
     "name": "stdout",
     "output_type": "stream",
     "text": [
      "Enter a numeric value: 8\n",
      "Logarithmic result: 2.0794415416798357\n",
      "Exponential result: 2980.9579870417283\n",
      "Power (base 2) result: 256.0\n",
      "Square Root result: 2.8284271247461903\n"
     ]
    }
   ],
   "source": [
    "# 8. Create a function that can intake integer or decimal value and do following operations: \n",
    "#a. Logarithmic function (log x) \n",
    "#b. Exponential function (exp(x)) \n",
    "#c. Power function with base 2 (2x) \n",
    "#d. Square root \n",
    "\n",
    "import math\n",
    "\n",
    "def perform_operations(value):\n",
    "    try:\n",
    "        value = float(value)  \n",
    "        result = {\n",
    "            \"Logarithmic\": math.log(value),\n",
    "            \"Exponential\": math.exp(value),\n",
    "            \"Power (base 2)\": 2 ** value,\n",
    "            \"Square Root\": math.sqrt(value)\n",
    "        }\n",
    "        return result\n",
    "    except ValueError:\n",
    "        return \"Invalid input. Please provide a valid numeric value.\"\n",
    "\n",
    "\n",
    "input_value = input(\"Enter a numeric value: \")\n",
    "operations_result = perform_operations(input_value)\n",
    "if isinstance(operations_result, str):\n",
    "    print(operations_result)\n",
    "else:\n",
    "    for operation, result in operations_result.items():\n",
    "        print(f\"{operation} result: {result}\")"
   ]
  },
  {
   "cell_type": "code",
   "execution_count": 21,
   "id": "11250471",
   "metadata": {},
   "outputs": [
    {
     "name": "stdout",
     "output_type": "stream",
     "text": [
      "Enter the full name: varsha srivastava\n",
      "First Name: varsha\n",
      "Last Name: srivastava\n"
     ]
    }
   ],
   "source": [
    "# 9. Create a function that takes a full name as an argument and returns first name and last name. \n",
    "def extract_names(full_name):\n",
    "    names = full_name.split()  \n",
    "    first_name = names[0] \n",
    "    last_name = ' '.join(names[1:])  \n",
    "    return first_name, last_name\n",
    "\n",
    "\n",
    "full_name = input(\"Enter the full name: \")\n",
    "first_name, last_name = extract_names(full_name)\n",
    "print(\"First Name:\", first_name)\n",
    "print(\"Last Name:\", last_name)"
   ]
  },
  {
   "cell_type": "code",
   "execution_count": null,
   "id": "d416a2a1",
   "metadata": {},
   "outputs": [],
   "source": []
  },
  {
   "cell_type": "code",
   "execution_count": null,
   "id": "60475af8",
   "metadata": {},
   "outputs": [],
   "source": []
  }
 ],
 "metadata": {
  "kernelspec": {
   "display_name": "Python 3 (ipykernel)",
   "language": "python",
   "name": "python3"
  },
  "language_info": {
   "codemirror_mode": {
    "name": "ipython",
    "version": 3
   },
   "file_extension": ".py",
   "mimetype": "text/x-python",
   "name": "python",
   "nbconvert_exporter": "python",
   "pygments_lexer": "ipython3",
   "version": "3.10.9"
  }
 },
 "nbformat": 4,
 "nbformat_minor": 5
}
