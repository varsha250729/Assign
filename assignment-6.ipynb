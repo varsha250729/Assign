{
 "cells": [
  {
   "cell_type": "code",
   "execution_count": 3,
   "id": "9f733d93-ca06-419b-bde1-db90aac9f405",
   "metadata": {},
   "outputs": [
    {
     "name": "stdout",
     "output_type": "stream",
     "text": [
      "['False', 'None', 'True', 'and', 'as', 'assert', 'async', 'await', 'break', 'class', 'continue', 'def', 'del', 'elif', 'else', 'except', 'finally', 'for', 'from', 'global', 'if', 'import', 'in', 'is', 'lambda', 'nonlocal', 'not', 'or', 'pass', 'raise', 'return', 'try', 'while', 'with', 'yield']\n"
     ]
    }
   ],
   "source": [
    "#Q.1. What are keywords in python? Using the keyword library, print all the python keywords.?\n",
    "\n",
    "# Keywords in Python are reserved words that have predefined meaning ,that cannot \n",
    "#be used as ordinary identifiers. They are used to define syntax & structure of the python \n",
    "# language. Keywords are immutable.\n",
    "\n",
    "import keyword\n",
    "print(keyword.kwlist)"
   ]
  },
  {
   "cell_type": "code",
   "execution_count": null,
   "id": "87cdeca6-16c1-4e79-b8e0-5e95d1670c08",
   "metadata": {},
   "outputs": [],
   "source": [
    "# Q2 What are the rules to create variables in python?\n",
    "# There are following rules:- \n",
    "#1. Variables are declared by writing the variable name & assigning it a value using the equal sign. \n",
    "#2. Variable name consist of letters, digit & underscore(_).They must start with a letter or an underscore. Variable names are case sensitive. \n",
    "#3. Variable names cannot start with a digit. \n",
    "#4. Variable names cannot contain spaces or special character like ! ,@,#,$ etc. \n",
    "#5. We cannot use reserved keywords as variable names. \n",
    "#6. Variable names cannot contain spaces. \n"
   ]
  },
  {
   "cell_type": "code",
   "execution_count": null,
   "id": "79f6b457-dc53-414a-ba6d-a5a1cf0485a5",
   "metadata": {},
   "outputs": [],
   "source": [
    "#Q.3. What are the standards and conventions followed for the nomenclature of variables in python to improve code readability and maintainability? \n",
    "#Ans3:- Following are some standards and conventions:- \n",
    "#1. Use lowercase letter for variable names & separate words with underscore.\n",
    "#2. Choose variable name that are meaningful & describe the purpose of variable. \n",
    "#3. If variable’s value is a constant & should not be changed , use uppercase letter & underscore. \n",
    "#4. Avoid using a variable name that shadow a built in function. \n"
   ]
  },
  {
   "cell_type": "code",
   "execution_count": null,
   "id": "6d025512-261c-42b0-b212-655eb860faee",
   "metadata": {},
   "outputs": [],
   "source": [
    "# Q.4. What will happen if a keyword is used as a variable name?\n",
    "# If we use keyword as a variable name ,we will encounter a syntax error. "
   ]
  },
  {
   "cell_type": "code",
   "execution_count": null,
   "id": "a8d6f3a4-f42b-47c3-9464-03d917ebb79f",
   "metadata": {},
   "outputs": [],
   "source": [
    "#Q.5. For what purpose def keyword is used?\n",
    "#Ans5:- def Keyword is used to define a function. A function is a block of code that perform a specific task &can be reused throughout the program. \n",
    "#Using def keyword allow us to create our own custom function & encapsulate code into organized & reusable component. "
   ]
  },
  {
   "cell_type": "code",
   "execution_count": 4,
   "id": "c4909e0f-8f5d-4114-a483-fbcea41edda0",
   "metadata": {},
   "outputs": [
    {
     "name": "stdout",
     "output_type": "stream",
     "text": [
      "This is a double-quote: \"\n"
     ]
    }
   ],
   "source": [
    "#Q.6. What is the operation of this special character ‘\\’?\n",
    "# Ans6:- The special character ‘\\’ is called backslash or escape character. It is used to escape \n",
    "#character that have special meaning in string & to introduce special character. \n",
    "\n",
    "print(\"This is a double-quote: \\\"\")\n",
    "\n"
   ]
  },
  {
   "cell_type": "code",
   "execution_count": 5,
   "id": "bb09a2cd-aafc-4c69-bb20-f94f9873ea5f",
   "metadata": {},
   "outputs": [
    {
     "name": "stdout",
     "output_type": "stream",
     "text": [
      "Line 1\n",
      "Line 2\n"
     ]
    }
   ],
   "source": [
    "print(\"Line 1\\nLine 2\")"
   ]
  },
  {
   "cell_type": "code",
   "execution_count": 6,
   "id": "900e5db3-2b40-4b08-897c-337484119c6f",
   "metadata": {},
   "outputs": [
    {
     "name": "stdout",
     "output_type": "stream",
     "text": [
      "Item\tPrice\n"
     ]
    }
   ],
   "source": [
    "print(\"Item\\tPrice\")"
   ]
  },
  {
   "cell_type": "code",
   "execution_count": 10,
   "id": "03dd11e2-1394-4ea3-9f0d-18de6ef4422d",
   "metadata": {},
   "outputs": [],
   "source": [
    "#Q.7. Give an example of the following conditions:\n",
    "#(i) Homogeneous list\n",
    "#(ii) Heterogeneous set\n",
    "#(iii) Homogeneous tuple\n",
    "\n",
    "# Homogeneous list:- It is a list where all elements are of same data type. It is an ordered collection of items. \n",
    "# Ex:- Homogeneous list of integer:- int_list = [2,4,6,8,10]\n",
    "\n",
    "#Heterogeneous set:- It is a set where the element can be different data type. It is an unordered collection of items where every element is unique. \n",
    "# Ex:- hetero_set = {1,”apple”,2.18,True} \n",
    "\n",
    "# Homogeneous tuple:- It is a tuple where all elements are the same data type. \n",
    " #Ex:- string_tuple=(“apple”,”banana”,”cherry”,”grapes”) \n"
   ]
  },
  {
   "cell_type": "code",
   "execution_count": 11,
   "id": "cc9ed466-28d8-4813-8790-b6260df8788d",
   "metadata": {},
   "outputs": [
    {
     "name": "stdout",
     "output_type": "stream",
     "text": [
      "Original list: [1, 2, 3]\n"
     ]
    }
   ],
   "source": [
    "# Q.8. Explain the mutable and immutable data types with proper explanation & examples.\n",
    "# Ans 8:- Mutable Data Type:- :- Mutable Data Type are those whose value can be modified after they created . \n",
    "#It means we can change the internal state of an object without crating a new object. \n",
    "\n",
    "my_list = [1, 2, 3]\n",
    "print(\"Original list:\", my_list)"
   ]
  },
  {
   "cell_type": "code",
   "execution_count": 12,
   "id": "899694e5-5ef1-4a8b-bc91-d164f43ebb7e",
   "metadata": {},
   "outputs": [
    {
     "name": "stdout",
     "output_type": "stream",
     "text": [
      "Modified list: [10, 2, 3]\n"
     ]
    }
   ],
   "source": [
    "my_list[0] = 10\n",
    "print(\"Modified list:\", my_list)"
   ]
  },
  {
   "cell_type": "code",
   "execution_count": 13,
   "id": "610377bf-7e2c-4a64-89ed-0eedb6530ba9",
   "metadata": {},
   "outputs": [
    {
     "name": "stdout",
     "output_type": "stream",
     "text": [
      "Original string: Hello\n"
     ]
    }
   ],
   "source": [
    "# Immutable Data Types :- Immutable Data types are those whose values cannot be modified after they created.\n",
    "# If we need to change the value, we have to create a new object.\n",
    "\n",
    "my_string = \"Hello\"\n",
    "print(\"Original string:\", my_string)"
   ]
  },
  {
   "cell_type": "code",
   "execution_count": 14,
   "id": "990dbe98-7d05-417b-b536-d99e841cbaca",
   "metadata": {},
   "outputs": [
    {
     "ename": "TypeError",
     "evalue": "'str' object does not support item assignment",
     "output_type": "error",
     "traceback": [
      "\u001b[0;31m---------------------------------------------------------------------------\u001b[0m",
      "\u001b[0;31mTypeError\u001b[0m                                 Traceback (most recent call last)",
      "Cell \u001b[0;32mIn [14], line 1\u001b[0m\n\u001b[0;32m----> 1\u001b[0m \u001b[43mmy_string\u001b[49m\u001b[43m[\u001b[49m\u001b[38;5;241;43m0\u001b[39;49m\u001b[43m]\u001b[49m \u001b[38;5;241m=\u001b[39m \u001b[38;5;124m'\u001b[39m\u001b[38;5;124mh\u001b[39m\u001b[38;5;124m'\u001b[39m\n",
      "\u001b[0;31mTypeError\u001b[0m: 'str' object does not support item assignment"
     ]
    }
   ],
   "source": [
    "my_string[0] = 'h' "
   ]
  },
  {
   "cell_type": "code",
   "execution_count": 38,
   "id": "d17e71e0-de0c-4587-8f50-6cb464b46233",
   "metadata": {},
   "outputs": [
    {
     "name": "stdout",
     "output_type": "stream",
     "text": [
      "    * \n",
      "   * * \n",
      "  * * * \n",
      " * * * * \n",
      "* * * * * \n"
     ]
    }
   ],
   "source": [
    "#Q.9. Write a code to create the given structure using only for loop.\n",
    "      \n",
    "def triangle(n):\n",
    "     \n",
    "    \n",
    "    k = n - 1\n",
    " \n",
    "    \n",
    "    for i in range(0, n):\n",
    "     \n",
    "        \n",
    "        for j in range(0, k):\n",
    "            print(end=\" \")\n",
    "     \n",
    "        \n",
    "        k = k - 1\n",
    "     \n",
    "        \n",
    "        for j in range(0, i+1):\n",
    "         \n",
    "            \n",
    "            print(\"* \", end=\"\")\n",
    "     \n",
    "       \n",
    "        print(\"\\r\")\n",
    " \n",
    "\n",
    "n = 5\n",
    "triangle(n)"
   ]
  },
  {
   "cell_type": "code",
   "execution_count": 31,
   "id": "228e799b-aef9-4910-a6a1-4a2bf7528aa8",
   "metadata": {},
   "outputs": [
    {
     "name": "stdout",
     "output_type": "stream",
     "text": [
      "|||||||||\n",
      " |||||||\n",
      "  |||||\n",
      "   |||\n",
      "    |\n"
     ]
    }
   ],
   "source": [
    "# Q.10. Write a code to create the given structure using while loop.\n",
    "\n",
    "num_rows = 5\n",
    "i = 0\n",
    "\n",
    "while i < num_rows:\n",
    "    print(\" \" * i + \"|\" * (2 * (num_rows - i) - 1))\n",
    "    i += 1"
   ]
  },
  {
   "cell_type": "code",
   "execution_count": null,
   "id": "fdfbba70-8b42-42ab-9b91-736b2b6e9d0d",
   "metadata": {},
   "outputs": [],
   "source": []
  }
 ],
 "metadata": {
  "kernelspec": {
   "display_name": "Python 3 (ipykernel)",
   "language": "python",
   "name": "python3"
  },
  "language_info": {
   "codemirror_mode": {
    "name": "ipython",
    "version": 3
   },
   "file_extension": ".py",
   "mimetype": "text/x-python",
   "name": "python",
   "nbconvert_exporter": "python",
   "pygments_lexer": "ipython3",
   "version": "3.10.6"
  }
 },
 "nbformat": 4,
 "nbformat_minor": 5
}
