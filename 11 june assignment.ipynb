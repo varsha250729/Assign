{
 "cells": [
  {
   "cell_type": "code",
   "execution_count": null,
   "id": "e19794cb-4f10-4a93-93fb-1bff54040dac",
   "metadata": {},
   "outputs": [],
   "source": [
    "#Q1. What is a lambda function in Python, and how does it differ from a regular function? \n",
    "# Ans:- A lambda function in Python is a small, anonymous, and inline function that can have any \n",
    "#number of arguments, but can only have one expression. It is defined using the lambda keyword, \n",
    "#followed by the arguments and the expression. Lambda functions are often used when we need a simple function for a short period of time . \n",
    "#Here are some key points about lambda functions in Python: \n",
    "#1. Lambda functions are small, anonymous functions defined with the lambda keyword. \n",
    "#2. They can take any number of arguments but can only have one expression. \n",
    "#3. The expression is evaluated and returned when the function is called. \n",
    "#4. Lambda functions do not require a return statement, the expression is implicitly returned. \n",
    "#5. You can't include statements like loops, if or else in lambda functions; only expressions are allowed. \n",
    "#6. Lambda functions are useful for small tasks that are not reused throughout your code. \n",
    "#7. They can be assigned to variables and used like regular functions. \n",
    "#Difference :- Lambda functions are typically more concise & are defined in a single line .\n",
    "#Regular functions have more structured syntax with a formal header & the use of return keywords. \n",
    "#Lambda functions can only contain a single expression, while regular functions can have multiple statement & more complex logic. \n"
   ]
  },
  {
   "cell_type": "code",
   "execution_count": 1,
   "id": "0495e7e6-dd0b-429d-a1b5-678cafcf9808",
   "metadata": {},
   "outputs": [
    {
     "name": "stdout",
     "output_type": "stream",
     "text": [
      "6\n"
     ]
    }
   ],
   "source": [
    "#Q2. Can a lambda function in Python have multiple arguments? If yes, how can you define and use them? \n",
    "#Ans:- Yes, a lambda function in Python can have multiple arguments. The syntax for defining a lambda function with multiple arguments is as follows: \n",
    "\n",
    "add=lambda x,y:x+y\n",
    "result= add(4,2)\n",
    "print(result)"
   ]
  },
  {
   "cell_type": "code",
   "execution_count": 2,
   "id": "74f546ec-0be8-43a8-9e33-24c6cca3b186",
   "metadata": {},
   "outputs": [
    {
     "name": "stdout",
     "output_type": "stream",
     "text": [
      "['apple', 'mango', 'banana', 'straberry']\n"
     ]
    }
   ],
   "source": [
    "#Q3. How are lambda functions typically used in Python? Provide an example use case. \n",
    " #Ans:- \n",
    "#Lambda functions are typically used in Python for situations where we need a small, anonymous \n",
    "#function to perform a specific task, especially when We are working with higher-order functions that \n",
    "#expect a function as an argument. \n",
    "words=['apple','banana','straberry','mango']\n",
    "sorted_words=sorted(words,key= lambda words:len(words))\n",
    "print(sorted_words)"
   ]
  },
  {
   "cell_type": "code",
   "execution_count": null,
   "id": "92a4e9cd-bf35-4a92-86fd-e601502aa859",
   "metadata": {},
   "outputs": [],
   "source": [
    "#Q4. What are the advantages and limitations of lambda functions compared to regular functions in Python? \n",
    "#Ans -Advantages of lambda functions in python:- \n",
    "#a. This is particularly useful for short and straightforward operations. \n",
    "#b. They return automatically. \n",
    "#c. They can't have a docstring and they don't have a name. \n",
    "#Limitations of lambda functions:- \n",
    "#a. Lambda functions can only consist of a single expression, which means they are not suitable for more complex logic that requires multiple statements or control structures. \n",
    "#b. Lambda functions do not support docstrings, which are important for providing information about a function's purpose, parameters, and usage. \n",
    "#c. Due to their anonymous nature, lambda functions are less reusable compared to named functions. "
   ]
  },
  {
   "cell_type": "code",
   "execution_count": 3,
   "id": "b643d8c2-aeec-49f2-8d9d-18c1913a643c",
   "metadata": {},
   "outputs": [
    {
     "name": "stdout",
     "output_type": "stream",
     "text": [
      "10\n"
     ]
    }
   ],
   "source": [
    "#q5. Are lambda functions in Python able to access variables defined outside of their own scope? Explain with an example. \n",
    "#Ans:- Yes, lambda functions in Python are able to access variables defined outside of their own scope. \n",
    "def outer_function(x):\n",
    "    multiplier = 2\n",
    "    \n",
    "    \n",
    "    lambda_function = lambda y: y * multiplier\n",
    "    \n",
    "    result = lambda_function(x)\n",
    "    return result\n",
    "\n",
    "value = 5\n",
    "output = outer_function(value)\n",
    "print(output)"
   ]
  },
  {
   "cell_type": "code",
   "execution_count": 4,
   "id": "7564ad8f-5ccf-46c4-8055-10b3c96e9ad8",
   "metadata": {},
   "outputs": [
    {
     "name": "stdout",
     "output_type": "stream",
     "text": [
      "16\n"
     ]
    }
   ],
   "source": [
    "#6. Write a lambda function to calculate the square of a given number. \n",
    "square=lambda x :x**2\n",
    "result= square(4)\n",
    "print(result)"
   ]
  },
  {
   "cell_type": "code",
   "execution_count": 5,
   "id": "1aa93edb-ec0c-48fd-bb64-536c67862edc",
   "metadata": {},
   "outputs": [
    {
     "name": "stdout",
     "output_type": "stream",
     "text": [
      "444\n"
     ]
    }
   ],
   "source": [
    "#7. Create a lambda function to find the maximum value in a list of integers. \n",
    "value= [12,56,4,444]\n",
    "max_value=lambda value:max(value)\n",
    "result=max_value(value)\n",
    "print(result)\n"
   ]
  },
  {
   "cell_type": "code",
   "execution_count": 6,
   "id": "0ed7a33b-f2ec-4847-8065-5b2c04a11193",
   "metadata": {},
   "outputs": [
    {
     "name": "stdout",
     "output_type": "stream",
     "text": [
      "[12, 4, 18]\n"
     ]
    }
   ],
   "source": [
    "#8. Implement a lambda function to filter out all the even numbers from a list of integers. \n",
    "num= [12,3,4,15,18]\n",
    "even_numbers = lambda lst: list(filter(lambda x: x % 2 == 0, lst))\n",
    "\n",
    "result = even_numbers(num)\n",
    "print(result)"
   ]
  },
  {
   "cell_type": "code",
   "execution_count": 7,
   "id": "4e5b6cdd-de79-408c-8860-7af236ea1e16",
   "metadata": {},
   "outputs": [
    {
     "name": "stdout",
     "output_type": "stream",
     "text": [
      "['apple', 'mango', 'banana', 'straberry']\n"
     ]
    }
   ],
   "source": [
    "#9. Write a lambda function to sort a list of strings in ascending order based on the length of each string. \n",
    "words=['apple','banana','straberry','mango']\n",
    "sorted_words=sorted(words,key= lambda words:len(words))\n",
    "print(sorted_words)"
   ]
  },
  {
   "cell_type": "code",
   "execution_count": 8,
   "id": "dae5c8bc-2dea-4eaf-ba7a-3d60f081c60c",
   "metadata": {},
   "outputs": [
    {
     "name": "stdout",
     "output_type": "stream",
     "text": [
      "[3, 4, 5]\n"
     ]
    }
   ],
   "source": [
    "#10. Create a lambda function that takes two lists as input and returns a new list containing the common elements between the two lists.\n",
    "list1 = [1, 2, 3, 4, 5]\n",
    "list2 = [3, 4, 5, 6, 7]\n",
    "\n",
    "common_elements = lambda lst1, lst2: list(filter(lambda x: x in lst2, lst1))\n",
    "\n",
    "result = common_elements(list1, list2)\n",
    "print(result)"
   ]
  },
  {
   "cell_type": "code",
   "execution_count": 10,
   "id": "6e2c4ba8-ed22-49db-845a-091f43d393c9",
   "metadata": {},
   "outputs": [
    {
     "name": "stdout",
     "output_type": "stream",
     "text": [
      "The factorial of 5 is 120\n"
     ]
    }
   ],
   "source": [
    "#11. Write a recursive function to calculate the factorial of a given positive integer. \n",
    "def factorial(n):\n",
    "    if n == 0 or n == 1:\n",
    "        return 1\n",
    "    else:\n",
    "        return n * factorial(n - 1)\n",
    "\n",
    "number = 5\n",
    "result = factorial(number)\n",
    "print(f\"The factorial of {number} is {result}\")"
   ]
  },
  {
   "cell_type": "code",
   "execution_count": 11,
   "id": "94ff7416-1b66-4071-b337-817bc159313a",
   "metadata": {},
   "outputs": [
    {
     "name": "stdout",
     "output_type": "stream",
     "text": [
      "The 6th Fibonacci number is 8\n"
     ]
    }
   ],
   "source": [
    "#12. Implement a recursive function to compute the nth Fibonacci number.\n",
    "\n",
    "def fibonacci(n):\n",
    "    if n <= 0:\n",
    "        return 0\n",
    "    elif n == 1:\n",
    "        return 1\n",
    "    else:\n",
    "        return fibonacci(n - 1) + fibonacci(n - 2)\n",
    "\n",
    "n = 6\n",
    "result = fibonacci(n)\n",
    "print(f\"The {n}th Fibonacci number is {result}\")"
   ]
  },
  {
   "cell_type": "code",
   "execution_count": 12,
   "id": "a4b25424-a0b3-4c50-88bb-3bedcbd838fa",
   "metadata": {},
   "outputs": [
    {
     "name": "stdout",
     "output_type": "stream",
     "text": [
      "Sum of the elements: 15\n"
     ]
    }
   ],
   "source": [
    "#13. Create a recursive function to find the sum of all the elements in a given list. \n",
    "def recursive_sum(lst, index=0):\n",
    "    if index == len(lst):\n",
    "        return 0\n",
    "    else:\n",
    "        return lst[index] + recursive_sum(lst, index + 1)\n",
    "\n",
    "my_list = [1, 2, 3, 4, 5]\n",
    "total_sum = recursive_sum(my_list)\n",
    "print(\"Sum of the elements:\", total_sum)"
   ]
  },
  {
   "cell_type": "code",
   "execution_count": 13,
   "id": "d3d444b9-4137-4336-bc24-3df6d1df883a",
   "metadata": {},
   "outputs": [
    {
     "name": "stdout",
     "output_type": "stream",
     "text": [
      "True\n"
     ]
    }
   ],
   "source": [
    "#14. Write a recursive function to determine whether a given string is a palindrome.\n",
    "def is_palindrome(s):\n",
    "   \n",
    "    if len(s) <= 1:\n",
    "        return True\n",
    "    \n",
    "   \n",
    "    elif s[0] == s[-1]:\n",
    "      \n",
    "        return is_palindrome(s[1:-1])\n",
    "    else:\n",
    "        return False\n",
    "print(is_palindrome(\"level\"))"
   ]
  },
  {
   "cell_type": "code",
   "execution_count": 14,
   "id": "f8cf3f57-fddc-45c8-841d-fe6fbf4ce1c6",
   "metadata": {},
   "outputs": [
    {
     "name": "stdout",
     "output_type": "stream",
     "text": [
      "The GCD of 48 and 18 is 6\n"
     ]
    }
   ],
   "source": [
    "#15. Implement a recursive function to find the greatest common divisor (GCD) of two positive integers. \n",
    "def gcd_recursive(a, b):\n",
    "    if b == 0:\n",
    "        return a\n",
    "    else:\n",
    "        return gcd_recursive(b, a % b)\n",
    "\n",
    "\n",
    "num1 = 48\n",
    "num2 = 18\n",
    "result = gcd_recursive(num1, num2)\n",
    "print(f\"The GCD of {num1} and {num2} is {result}\")"
   ]
  }
 ],
 "metadata": {
  "kernelspec": {
   "display_name": "Python 3 (ipykernel)",
   "language": "python",
   "name": "python3"
  },
  "language_info": {
   "codemirror_mode": {
    "name": "ipython",
    "version": 3
   },
   "file_extension": ".py",
   "mimetype": "text/x-python",
   "name": "python",
   "nbconvert_exporter": "python",
   "pygments_lexer": "ipython3",
   "version": "3.10.6"
  }
 },
 "nbformat": 4,
 "nbformat_minor": 5
}
