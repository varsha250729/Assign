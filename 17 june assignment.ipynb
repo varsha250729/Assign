{
 "cells": [
  {
   "cell_type": "code",
   "execution_count": null,
   "id": "9a926522",
   "metadata": {},
   "outputs": [],
   "source": [
    "##Q1-What is the role of try and exception block? \n",
    "#The \"try\" and \"except\" blocks are a fundamental part of exception handling. \n",
    "#They are used to handle and manage errors or exceptions that may occur during the execution of a program.\n",
    "#The \"try\" block contains the code that we suspect might raise an exception.\n",
    "#If an exception is raised within the \"try\" block, the execution of the code within the \"try\" block is immediately halted, and the program jumps to the corresponding \"except\" block\n",
    "#The \"except\" block follows the \"try\" block and contains code that specifies how to handle the exception that was raised in the \"try\" block.\n",
    "\n"
   ]
  },
  {
   "cell_type": "code",
   "execution_count": 5,
   "id": "ca83b90c",
   "metadata": {},
   "outputs": [
    {
     "name": "stdout",
     "output_type": "stream",
     "text": [
      "Enter a number: 0\n",
      "Cannot divide by zero.\n"
     ]
    }
   ],
   "source": [
    "# Q2 What is the syntax for a basic try-except block? \n",
    "# Syntax are asa follows:-\n",
    "try:\n",
    "    x = int(input(\"Enter a number: \"))\n",
    "    result = 20 / x\n",
    "except ZeroDivisionError:\n",
    "    print(\"Cannot divide by zero.\")\n",
    "except ValueError:\n",
    "    print(\"Invalid input.\")"
   ]
  },
  {
   "cell_type": "code",
   "execution_count": 6,
   "id": "89824690",
   "metadata": {},
   "outputs": [
    {
     "ename": "ZeroDivisionError",
     "evalue": "division by zero",
     "output_type": "error",
     "traceback": [
      "\u001b[1;31m---------------------------------------------------------------------------\u001b[0m",
      "\u001b[1;31mZeroDivisionError\u001b[0m                         Traceback (most recent call last)",
      "Cell \u001b[1;32mIn[6], line 5\u001b[0m\n\u001b[0;32m      1\u001b[0m \u001b[38;5;66;03m# Q3 What happens if an exception occurs inside a try block and there is no matching except block? \u001b[39;00m\n\u001b[0;32m      2\u001b[0m \u001b[38;5;66;03m#If an exception occurs inside a try block and there is no matching except block to handle that specific type of exception, the program will terminate, and an unhandled exception message or traceback will be displayed. \u001b[39;00m\n\u001b[0;32m      4\u001b[0m \u001b[38;5;28;01mtry\u001b[39;00m:\n\u001b[1;32m----> 5\u001b[0m     x \u001b[38;5;241m=\u001b[39m \u001b[38;5;241;43m10\u001b[39;49m\u001b[43m \u001b[49m\u001b[38;5;241;43m/\u001b[39;49m\u001b[43m \u001b[49m\u001b[38;5;241;43m0\u001b[39;49m  \u001b[38;5;66;03m# This will raise a ZeroDivisionError\u001b[39;00m\n\u001b[0;32m      6\u001b[0m \u001b[38;5;28;01mexcept\u001b[39;00m \u001b[38;5;167;01mValueError\u001b[39;00m:\n\u001b[0;32m      7\u001b[0m     \u001b[38;5;28mprint\u001b[39m(\u001b[38;5;124m\"\u001b[39m\u001b[38;5;124mThis will not be executed because it\u001b[39m\u001b[38;5;124m'\u001b[39m\u001b[38;5;124ms not a ValueError.\u001b[39m\u001b[38;5;124m\"\u001b[39m)\n",
      "\u001b[1;31mZeroDivisionError\u001b[0m: division by zero"
     ]
    }
   ],
   "source": [
    "# Q3 What happens if an exception occurs inside a try block and there is no matching except block? \n",
    "#If an exception occurs inside a try block and there is no matching except block to handle that specific type of exception, the program will terminate, and an unhandled exception message or traceback will be displayed. \n",
    "\n",
    "try:\n",
    "    x = 10 / 0  # This will raise a ZeroDivisionError\n",
    "except ValueError:\n",
    "    print(\"This will not be executed because it's not a ValueError.\")\n",
    "    \n",
    "#In this example, a ZeroDivisionError occurs inside the try block, but there is no corresponding except block for ZeroDivisionError. As a result, the program terminates, and we'll see a traceback indicating the unhandled exception, like this"
   ]
  },
  {
   "cell_type": "code",
   "execution_count": null,
   "id": "59430bc6",
   "metadata": {},
   "outputs": [],
   "source": [
    "#Q4 What is the difference between using a bare except block and specifying a specific exception type? \n",
    "\n",
    "# Specific Exception Type:\n",
    "\n",
    "#When we specify a specific exception type in an except block,we are indicating that we want to catch and handle a particular type of exception.\n",
    "\n",
    "# Bare Exception Type :\n",
    "\n",
    "#A bare except block catches and handles any exception that occurs within the associated try block, regardless of its type.\n",
    "#It may lead to unexpected behavior and potentially hide bugs or problems in codes, as we won't know exactly which exception was raised.\n"
   ]
  },
  {
   "cell_type": "code",
   "execution_count": 11,
   "id": "a34e49ba",
   "metadata": {},
   "outputs": [
    {
     "name": "stdout",
     "output_type": "stream",
     "text": [
      "Enter the first number: 25\n",
      "Enter the second number: 5\n",
      "Result of division: 5.0\n",
      "Program finished.\n"
     ]
    }
   ],
   "source": [
    "#Q5. Can you have nested try-except blocks in Python? If yes, then give an example. \n",
    "# Yes, we can have nested try-except blocks in Python.\n",
    "try:\n",
    "    # Outer try block\n",
    "    num1 = int(input(\"Enter the first number: \"))\n",
    "    num2 = int(input(\"Enter the second number: \"))\n",
    "\n",
    "    try:\n",
    "        # Inner try block\n",
    "        result = num1 / num2\n",
    "        print(\"Result of division:\", result)\n",
    "\n",
    "    except ZeroDivisionError:\n",
    "        print(\"Inner: Division by zero is not allowed.\")\n",
    "    except ValueError:\n",
    "        print(\"Inner: Invalid input for the second number.\")\n",
    "\n",
    "except ValueError:\n",
    "    print(\"Outer: Invalid input for the first number.\")\n",
    "\n",
    "print(\"Program finished.\")\n"
   ]
  },
  {
   "cell_type": "code",
   "execution_count": 12,
   "id": "88bcd081",
   "metadata": {},
   "outputs": [
    {
     "name": "stdout",
     "output_type": "stream",
     "text": [
      "Enter the first number: 45\n",
      "Enter the second number: 5\n",
      "Result of division: 9.0\n",
      "Program finished.\n"
     ]
    }
   ],
   "source": [
    "#Q6 6. Can we use multiple exception blocks, if yes then give an example.\n",
    "\n",
    "# Yes,we can use multiple exception blocks to handle different types of exceptions in a single try block. \n",
    "#This allows us to handle various error scenarios more gracefully. Here's an example:\n",
    "try:\n",
    "    \n",
    "    num1 = int(input(\"Enter the first number: \"))\n",
    "    num2 = int(input(\"Enter the second number: \"))\n",
    "\n",
    "    try:\n",
    "       \n",
    "        result = num1 / num2\n",
    "        print(\"Result of division:\", result)\n",
    "\n",
    "    except ZeroDivisionError:\n",
    "        print(\"Inner: Division by zero is not allowed.\")\n",
    "    except ValueError:\n",
    "        print(\"Inner: Invalid input for the second number.\")\n",
    "\n",
    "except ValueError:\n",
    "    print(\"Outer: Invalid input for the first number.\")\n",
    "\n",
    "print(\"Program finished.\")"
   ]
  },
  {
   "cell_type": "code",
   "execution_count": null,
   "id": "6e663f78",
   "metadata": {},
   "outputs": [],
   "source": [
    "\n",
    "# Q7  7. Write the reason due to which following errors are raised: \n",
    "\n",
    "H#ere are the reasons why each of the mentioned errors is raised:\n",
    "\n",
    "#a. EOFError (End of File Error):\n",
    "\n",
    "#Raised when an input operation reaches the end of a file or stream, and there is no more data to read.\n",
    "#This error typically occurs when attempting to read beyond the end of a file or input source.\n",
    "\n",
    "#b. FloatingPointError:\n",
    "\n",
    "#Raised when a floating-point operation encounters an exceptional condition that cannot be handled, such as division by zero or an invalid operation on a special floating-point value like \"NaN\" (Not-a-Number).\n",
    "\n",
    "#c. IndexError:\n",
    "\n",
    "#Raised when trying to access an index that is outside the bounds of a sequence (e.g., a list, tuple, or string).\n",
    "#It indicates that we are trying to access an element that does not exist at the specified index.\n",
    "\n",
    "#d. MemoryError:\n",
    "\n",
    "#Raised when an operation or allocation requests more memory than the system can provide.\n",
    "#It indicates that the program has exhausted available memory resources.\n",
    "\n",
    "#e. OverflowError:\n",
    "\n",
    "#Raised when an arithmetic operation results in a value that is too large to be represented within the available numeric type.\n",
    "#It occurs when we try to store a number beyond the maximum representable value for the data type.\n",
    "\n",
    "#f. TabError:\n",
    "\n",
    "#Raised when inconsistent use of tabs and spaces for indentation is detected in Python code.\n",
    "#Python enforces strict indentation rules, and mixing tabs and spaces incorrectly can lead to this error.\n",
    "\n",
    "#g. ValueError:\n",
    "\n",
    "#Raised when an operation or function receives an argument of the correct type but with an inappropriate value.\n",
    "#It typically indicates that the input data does not meet the expected criteria or is out of range for the operation being performed."
   ]
  },
  {
   "cell_type": "code",
   "execution_count": null,
   "id": "d589ac4b",
   "metadata": {},
   "outputs": [],
   "source": [
    "#8. Write code for the following given scenario and add try-exception block to it.\n",
    "#a. Program to divide two numbers \n",
    "#b. Program to convert a string to an integer \n",
    "#c. Program to access an element in a list \n",
    "#d. Program to handle a specific exception \n",
    "#e. Program to handle any exception\n"
   ]
  },
  {
   "cell_type": "code",
   "execution_count": 14,
   "id": "a77d322e",
   "metadata": {},
   "outputs": [
    {
     "name": "stdout",
     "output_type": "stream",
     "text": [
      "Enter the first number: 40\n",
      "Enter the second number: 5\n",
      "Result of division: 8.0\n"
     ]
    }
   ],
   "source": [
    "#a. Program to divide two numbers \n",
    "try:\n",
    "    num1 = float(input(\"Enter the first number: \"))\n",
    "    num2 = float(input(\"Enter the second number: \"))\n",
    "    \n",
    "    result = num1 / num2\n",
    "    print(\"Result of division:\", result)\n",
    "\n",
    "except ZeroDivisionError:\n",
    "    print(\"Cannot divide by zero.\")\n",
    "except ValueError:\n",
    "    print(\"Invalid input. Please enter valid numbers.\")\n"
   ]
  },
  {
   "cell_type": "code",
   "execution_count": 15,
   "id": "798b62ba",
   "metadata": {},
   "outputs": [
    {
     "name": "stdout",
     "output_type": "stream",
     "text": [
      "Enter an integer: 20\n",
      "Integer value: 20\n"
     ]
    }
   ],
   "source": [
    "#b. Program to convert a string to an integer \n",
    "try:\n",
    "    user_input = input(\"Enter an integer: \")\n",
    "    integer_value = int(user_input)\n",
    "    print(\"Integer value:\", integer_value)\n",
    "\n",
    "except ValueError:\n",
    "    print(\"Invalid input. Please enter a valid integer.\")\n",
    "except Exception as e:\n",
    "    print(\"An unexpected error occurred:\", e)"
   ]
  },
  {
   "cell_type": "code",
   "execution_count": 16,
   "id": "3eae133b",
   "metadata": {},
   "outputs": [
    {
     "name": "stdout",
     "output_type": "stream",
     "text": [
      "Enter an index to access: 3\n",
      "Value at index 3 is 4\n"
     ]
    }
   ],
   "source": [
    "\n",
    "##c. Program to access an element in a list \n",
    "try:\n",
    "    my_list = [1, 2, 3, 4, 5]\n",
    "    index = int(input(\"Enter an index to access: \"))\n",
    "    \n",
    "    value = my_list[index]\n",
    "    print(\"Value at index\", index, \"is\", value)\n",
    "\n",
    "except IndexError:\n",
    "    print(\"Index out of range. Please enter a valid index.\")\n",
    "except ValueError:\n",
    "    print(\"Invalid input. Please enter a valid integer index.\")\n"
   ]
  },
  {
   "cell_type": "code",
   "execution_count": 19,
   "id": "14208861",
   "metadata": {},
   "outputs": [
    {
     "name": "stdout",
     "output_type": "stream",
     "text": [
      "Enter a number: -2\n",
      "ValueError: Negative numbers are not allowed.\n"
     ]
    }
   ],
   "source": [
    "#d. Program to handle a specific exception \n",
    "try:\n",
    "    num = int(input(\"Enter a number: \"))\n",
    "    if num < 0:\n",
    "        raise ValueError(\"Negative numbers are not allowed.\")\n",
    "    \n",
    "    print(\"You entered:\", num)\n",
    "\n",
    "except ValueError as ve:\n",
    "    print(\"ValueError:\", ve)\n",
    "except Exception as e:\n",
    "    print(\"An unexpected error occurred:\", e)"
   ]
  },
  {
   "cell_type": "code",
   "execution_count": 22,
   "id": "d626a6a7",
   "metadata": {},
   "outputs": [
    {
     "name": "stdout",
     "output_type": "stream",
     "text": [
      "Enter the first number: 25\n",
      "Enter the second number: 0\n",
      "An error occurred: division by zero\n"
     ]
    }
   ],
   "source": [
    "#e. Program to handle any exception\n",
    "try:\n",
    "    num1 = int(input(\"Enter the first number: \"))\n",
    "    num2 = int(input(\"Enter the second number: \"))\n",
    "    \n",
    "    result = num1 / num2\n",
    "    print(\"Result of division:\", result)\n",
    "\n",
    "except Exception as e:\n",
    "    print(\"An error occurred:\", e)"
   ]
  },
  {
   "cell_type": "code",
   "execution_count": null,
   "id": "10d0208f",
   "metadata": {},
   "outputs": [],
   "source": []
  },
  {
   "cell_type": "code",
   "execution_count": null,
   "id": "ea459cd2",
   "metadata": {},
   "outputs": [],
   "source": []
  },
  {
   "cell_type": "code",
   "execution_count": null,
   "id": "277f00e3",
   "metadata": {},
   "outputs": [],
   "source": []
  }
 ],
 "metadata": {
  "kernelspec": {
   "display_name": "Python 3 (ipykernel)",
   "language": "python",
   "name": "python3"
  },
  "language_info": {
   "codemirror_mode": {
    "name": "ipython",
    "version": 3
   },
   "file_extension": ".py",
   "mimetype": "text/x-python",
   "name": "python",
   "nbconvert_exporter": "python",
   "pygments_lexer": "ipython3",
   "version": "3.10.9"
  }
 },
 "nbformat": 4,
 "nbformat_minor": 5
}
