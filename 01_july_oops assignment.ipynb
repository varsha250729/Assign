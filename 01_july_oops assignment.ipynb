{
 "cells": [
  {
   "cell_type": "code",
   "execution_count": null,
   "id": "0e23089d-82d9-4ade-b144-0311de7d2a95",
   "metadata": {},
   "outputs": [],
   "source": [
    "#What is the primary goal of Object-Oriented Programming (OOP)?\n",
    "Ans:- The primary goal of Object-Oriented Programming (OOP) is to provide a modular, flexible, and reusable approach to software development.\n",
    "     OOP is based on the concept of \"objects,\" which are instances of classes that encapsulate data and behavior. \n",
    "     The key principles of OOP are encapsulation, inheritance, and polymorphism.\n",
    "      OOP aims to enhance software development by promoting modular, reusable, and maintainable code."
   ]
  },
  {
   "cell_type": "code",
   "execution_count": null,
   "id": "de43e826-1c92-4952-9d13-29402d730fec",
   "metadata": {},
   "outputs": [],
   "source": [
    "#What is an object in Python?\n",
    "Ans:-In Python, an object is a fundamental concept that represents a specific instance of a class. \n",
    "Objects are the building blocks of object-oriented programming in Python. \n",
    "They encapsulate both data (attributes or properties) and behaviors (methods or functions) within a single entity.\n",
    "eg:- \n",
    "pen1=pen()\n",
    "here pen1 is an object of the pen class\n"
   ]
  },
  {
   "cell_type": "code",
   "execution_count": null,
   "id": "345c9375-616e-4811-9a72-14d665325465",
   "metadata": {},
   "outputs": [],
   "source": [
    "#What is a class in Python?\n",
    "Ans:- A class is a blueprint or template for creating objects. It defines the structure and behavior that objects of that class will have.\n",
    "Classes provide a way to organize and structure code, promoting reusability and maintainability. \n",
    "They allow you to define your own data types and define behaviors associated with them. \n",
    "We use the 'class' keyword followed by the name of the class.\n",
    "eg. class Person:"
   ]
  },
  {
   "cell_type": "code",
   "execution_count": null,
   "id": "b514cc33-2bbd-401d-84cf-e764c441083d",
   "metadata": {},
   "outputs": [],
   "source": [
    "#What are attributes and methods in a class?\n",
    "Ans:- Attributes are variables associated with an object or a class. T\n",
    "hey represent the data or state of the object. Each object created from a class can have its own set of attribute values. \n",
    "Attributes can be accessed and modified using dot notation. \n",
    "There are two types of attributes:\n",
    "1. Instance attribute\n",
    "2. class attribute\n",
    " \n",
    "Methods are functions defined within a class that define the behavior or actions that objects of the class can perform.\n",
    "They operate on the data (attributes) of the class and can modify or access them.\n",
    "There are three types of methods:\n",
    "1. Instance method\n",
    "2. class method\n",
    "3. static menthod"
   ]
  },
  {
   "cell_type": "code",
   "execution_count": null,
   "id": "3cb38f47-e5cc-454b-95fd-9d06167ae907",
   "metadata": {},
   "outputs": [],
   "source": [
    "#What is the difference between class variables and instance variables in Python?\n",
    "Ans:- Class Variables:\n",
    "Class variables are attributes that are shared among all objects (instances) of a class.\n",
    "#They are defined directly within the class but outside of any method.\n",
    "#Class variables have the same value for all objects of the class.\n",
    "#Changes made to a class variable are reflected in all objects of that class.\n",
    "#Class variables are accessed using the class name or any object of the class.\n",
    "# They are typically used to store data that is common to all objects of the class.\n",
    "C#lass variables are often used to define constants or default values.\n",
    "eg:- class Car:\n",
    "    wheels = 4  # Class variable\n",
    "   \n",
    "    \n",
    "Instance Variables:\n",
    "\n",
    "Instance variables are attributes that belong to individual objects (instances) of a class.\n",
    "#They are defined within the methods of a class, typically within the __init__ method.\n",
    "#Each object has its own copy of instance variables.\n",
    "#Changes made to an instance variable of one object don't affect the same variable in other objects.\n",
    "#Instance variables are accessed and modified using the object name.\n",
    "#They are used to store unique data specific to each object.\n",
    "eg.\n",
    "class Person:\n",
    "    def __init__(self, name):\n",
    "        self.name = name  # Instance variable\n"
   ]
  },
  {
   "cell_type": "code",
   "execution_count": null,
   "id": "c3b28a3c-83d1-4f30-9d12-18ddaafe0d75",
   "metadata": {},
   "outputs": [],
   "source": [
    "# What is the purpose of the self parameter in Python class methods?\n",
    "Ans:- In Python class methods, the self parameter is a conventionally used parameter that represents the instance on which the method is called.\n",
    " When a class method is defined, the first parameter conventionally named self is used to represent the instance. \n",
    "The purpose of the self parameter in class methods is to enable access to the instance's attributes and methods within the method"
   ]
  },
  {
   "cell_type": "code",
   "execution_count": 58,
   "id": "6d0a9854-ec8c-4d0f-9ea0-74666d499404",
   "metadata": {},
   "outputs": [],
   "source": [
    "# Q-7For a library management system\n",
    "class Book:\n",
    "    def __init__ (self,title,author,isbn,publication_year,available_copies):\n",
    "        self.title=title\n",
    "        self.author=author\n",
    "        self.isbn=isbn\n",
    "        self.publication_year=publication_year\n",
    "        self.available_copies=available_copies\n",
    "        \n",
    "    def display_book_info(self):\n",
    "        print(f\" Book Information: Title:{self.title} author:{self.author} isbn:{self.isbn} Publication Year:{self.publication_year} Available copies are {self.available_copies}\")\n",
    "        \n",
    "    def check_out(self):\n",
    "        if self.available_copies >0:\n",
    "            self.available_copies-=1\n",
    "            print(f\"the book{self.title} has been checked out\")\n",
    "        else:\n",
    "            print(f\" The book {self.title } is not avialable\")\n",
    "    def return_book(self):\n",
    "        self.available_copies += 1\n",
    "        print(f\"The book '{self.title}' has been returned.\")"
   ]
  },
  {
   "cell_type": "code",
   "execution_count": 65,
   "id": "019c6c68-d436-4298-a828-e5e85e97d7b4",
   "metadata": {},
   "outputs": [
    {
     "name": "stdout",
     "output_type": "stream",
     "text": [
      " Book Information: Title:Math author:J.D. Gupta isbn:9780316769488 Publication Year:1985 Available copies are 3\n"
     ]
    }
   ],
   "source": [
    "book1 = Book(\"Math\", \"J.D. Gupta\", \"9780316769488\", 1985,3)\n",
    "book1.display_book_info() \n"
   ]
  },
  {
   "cell_type": "code",
   "execution_count": 66,
   "id": "814f60a0-a617-4707-a25c-b9c4b9604779",
   "metadata": {},
   "outputs": [
    {
     "name": "stdout",
     "output_type": "stream",
     "text": [
      "the bookMath has been checked out\n"
     ]
    }
   ],
   "source": [
    "book1.check_out()"
   ]
  },
  {
   "cell_type": "code",
   "execution_count": 67,
   "id": "fd118070-8c6a-4d60-b7c1-4c9781021527",
   "metadata": {},
   "outputs": [
    {
     "name": "stdout",
     "output_type": "stream",
     "text": [
      " Book Information: Title:Math author:J.D. Gupta isbn:9780316769488 Publication Year:1985 Available copies are 2\n"
     ]
    }
   ],
   "source": [
    "book1.display_book_info() "
   ]
  },
  {
   "cell_type": "code",
   "execution_count": 68,
   "id": "777e322f-5ff6-4059-8ac2-fe3b8449fcd7",
   "metadata": {},
   "outputs": [
    {
     "name": "stdout",
     "output_type": "stream",
     "text": [
      "The book 'Math' has been returned.\n"
     ]
    }
   ],
   "source": [
    "book1.return_book()\n"
   ]
  },
  {
   "cell_type": "code",
   "execution_count": 69,
   "id": "aff093ef-5e39-4197-84bb-05f6871c67db",
   "metadata": {},
   "outputs": [
    {
     "name": "stdout",
     "output_type": "stream",
     "text": [
      " Book Information: Title:Math author:J.D. Gupta isbn:9780316769488 Publication Year:1985 Available copies are 3\n"
     ]
    }
   ],
   "source": [
    "book1.display_book_info() "
   ]
  },
  {
   "cell_type": "code",
   "execution_count": 35,
   "id": "e917e6a6-eea9-4516-a12e-86b2f7ef2622",
   "metadata": {},
   "outputs": [],
   "source": [
    "#Q8- For a ticket booking system,\n",
    "\n",
    "class Ticket:\n",
    "    def __init__(self,ticket_id,event_name,event_date,venue,seat_number,price,is_reserved):\n",
    "        self.ticket_id=ticket_id\n",
    "        self.event_name=event_name\n",
    "        self.venue=venue\n",
    "        self.seat_number=seat_number\n",
    "        self.price=price\n",
    "        self.is_reserved=is_reserved\n",
    "    def display_ticket_info(self):\n",
    "        print(f\" The ticket id no {self.ticket_id} of event {self.event_name} at venue {self.venue} with seat no {self.seat_number} price:{self.price} \")\n",
    "        print (f\"Reservation Status: {'Reserved' if self.is_reserved else 'Not Reserved'}\")\n",
    "    def reserve_ticket(self):\n",
    "        if not self.is_reserved:\n",
    "            self.is_reserved = True\n",
    "            print(f\"Ticket with ID {self.ticket_id} has been reserved.\")\n",
    "        else:\n",
    "            print(f\"Ticket with ID {self.ticket_id} is already reserved.\")\n",
    "            \n",
    "    def cancel_reservation(self):\n",
    "        if self.is_reserved:\n",
    "            self.is_reserved = False\n",
    "            print(f\"Reservation for ticket with ID {self.ticket_id} has been canceled.\")\n",
    "        else:\n",
    "            print(f\"Ticket with ID {self.ticket_id} is not currently reserved.\")\n",
    "        "
   ]
  },
  {
   "cell_type": "code",
   "execution_count": 38,
   "id": "574c255c-e427-4a86-a374-e243ccf99c58",
   "metadata": {},
   "outputs": [
    {
     "name": "stdout",
     "output_type": "stream",
     "text": [
      " The ticket id no M1 of event Concert at venue Music Hall with seat no A12 price:250 \n",
      "Reservation Status: Not Reserved\n"
     ]
    }
   ],
   "source": [
    "ticket1 = Ticket(\"M1\", \"Concert\", \"2023-07-15\", \"Music Hall\", \"A12\", 250, False)\n",
    "ticket1.display_ticket_info()\n"
   ]
  },
  {
   "cell_type": "code",
   "execution_count": 39,
   "id": "c8f9c210-db33-4dd6-883d-62921c9e2553",
   "metadata": {},
   "outputs": [
    {
     "name": "stdout",
     "output_type": "stream",
     "text": [
      "Ticket with ID M1 has been reserved.\n"
     ]
    }
   ],
   "source": [
    "\n",
    "ticket1.reserve_ticket()"
   ]
  },
  {
   "cell_type": "code",
   "execution_count": 40,
   "id": "d0cf4194-618a-49da-a1c1-8e561473a99c",
   "metadata": {},
   "outputs": [
    {
     "name": "stdout",
     "output_type": "stream",
     "text": [
      "Ticket with ID M1 is already reserved.\n"
     ]
    }
   ],
   "source": [
    "\n",
    "ticket1.reserve_ticket()"
   ]
  },
  {
   "cell_type": "code",
   "execution_count": 41,
   "id": "02d06c90-5d6b-4c53-aa4b-42bff53daad2",
   "metadata": {},
   "outputs": [
    {
     "name": "stdout",
     "output_type": "stream",
     "text": [
      "Reservation for ticket with ID M1 has been canceled.\n"
     ]
    }
   ],
   "source": [
    "ticket1.cancel_reservation()\n"
   ]
  },
  {
   "cell_type": "code",
   "execution_count": 42,
   "id": "4b1b121e-77a6-4fa1-a7b8-0c697b2b288d",
   "metadata": {},
   "outputs": [
    {
     "name": "stdout",
     "output_type": "stream",
     "text": [
      "Ticket with ID M1 is not currently reserved.\n"
     ]
    }
   ],
   "source": [
    "ticket1.cancel_reservation()"
   ]
  },
  {
   "cell_type": "code",
   "execution_count": 49,
   "id": "9048a373-126b-4a45-9545-e431285836b4",
   "metadata": {},
   "outputs": [],
   "source": [
    "# Q9 Shopping Cart\n",
    "\n",
    "class ShoppingCart:\n",
    "    def __init__(self):\n",
    "        self.items = []\n",
    "\n",
    "    def add_item(self, item):\n",
    "        self.items.append(item)\n",
    "        print(f\"{item} has been added to the shopping cart.\")\n",
    "\n",
    "    def remove_item(self, item):\n",
    "        if item in self.items:\n",
    "            self.items.remove(item)\n",
    "            print(f\"{item} has been removed from the shopping cart.\")\n",
    "        else:\n",
    "            print(f\"{item} is not present in the shopping cart.\")\n",
    "\n",
    "    def view_cart(self):\n",
    "        if self.items:\n",
    "            print(\"Items in the shopping cart:\")\n",
    "            for item in self.items:\n",
    "                print(item)\n",
    "        else:\n",
    "            print(\"The shopping cart is empty.\")\n",
    "\n",
    "    def clear_cart(self):\n",
    "        self.items = []\n",
    "        print(\"The shopping cart has been cleared.\")\n"
   ]
  },
  {
   "cell_type": "code",
   "execution_count": 50,
   "id": "eea000bf-e0cc-4822-bfdc-749b83abfcad",
   "metadata": {},
   "outputs": [
    {
     "name": "stdout",
     "output_type": "stream",
     "text": [
      "Shirt has been added to the shopping cart.\n",
      "Jeans has been added to the shopping cart.\n",
      "Shoes has been added to the shopping cart.\n",
      "Items in the shopping cart:\n",
      "Shirt\n",
      "Jeans\n",
      "Shoes\n"
     ]
    }
   ],
   "source": [
    "cart = ShoppingCart()\n",
    "cart.add_item(\"Shirt\")\n",
    "cart.add_item(\"Jeans\")\n",
    "cart.add_item(\"Shoes\")\n",
    "cart.view_cart()"
   ]
  },
  {
   "cell_type": "code",
   "execution_count": 51,
   "id": "3d30486c-3712-4b16-8482-c9d928a32f6f",
   "metadata": {},
   "outputs": [
    {
     "name": "stdout",
     "output_type": "stream",
     "text": [
      "Shoes has been removed from the shopping cart.\n"
     ]
    }
   ],
   "source": [
    "cart.remove_item(\"Shoes\")"
   ]
  },
  {
   "cell_type": "code",
   "execution_count": 52,
   "id": "59bcc468-4293-4fbb-bb47-68a581e55e25",
   "metadata": {},
   "outputs": [
    {
     "name": "stdout",
     "output_type": "stream",
     "text": [
      "Items in the shopping cart:\n",
      "Shirt\n",
      "Jeans\n"
     ]
    }
   ],
   "source": [
    "cart.view_cart()"
   ]
  },
  {
   "cell_type": "code",
   "execution_count": 54,
   "id": "d9ceb5d1-c583-4b89-8452-a06348d0ca83",
   "metadata": {},
   "outputs": [
    {
     "name": "stdout",
     "output_type": "stream",
     "text": [
      "The shopping cart has been cleared.\n"
     ]
    }
   ],
   "source": [
    "cart.clear_cart()"
   ]
  },
  {
   "cell_type": "code",
   "execution_count": 55,
   "id": "c79aec40-2a1b-4af4-a234-805fb81e2016",
   "metadata": {},
   "outputs": [
    {
     "name": "stdout",
     "output_type": "stream",
     "text": [
      "The shopping cart is empty.\n"
     ]
    }
   ],
   "source": [
    "cart.view_cart()"
   ]
  },
  {
   "cell_type": "code",
   "execution_count": 57,
   "id": "d44acbba-1a70-4be2-a9f4-59d923e14423",
   "metadata": {},
   "outputs": [],
   "source": [
    "#Q10 a school management system\n",
    "class Student:\n",
    "    def __init__(self, name, age, grade, student_id):\n",
    "        self.name = name\n",
    "        self.age = age\n",
    "        self.grade = grade\n",
    "        self.student_id = student_id\n",
    "        self.attendance = {}\n",
    "\n",
    "    def update_attendance(self, date, status):\n",
    "        self.attendance[date] = status\n",
    "\n",
    "    def get_attendance(self):\n",
    "        return self.attendance\n",
    "\n",
    "    def get_average_attendance(self):\n",
    "        total_days = len(self.attendance)\n",
    "        present_days = list(self.attendance.values()).count(\"present\")\n",
    "        attendance_percentage = (present_days / total_days) * 100 \n",
    "        return attendance_percentage"
   ]
  },
  {
   "cell_type": "code",
   "execution_count": 58,
   "id": "1d25e814-7fce-4c25-8b00-7488833aa873",
   "metadata": {},
   "outputs": [],
   "source": [
    "student1 = Student(\"Tom\", 10, 5, \"S1488\")\n",
    "student1.update_attendance(\"2023-07-01\", \"present\")\n",
    "student1.update_attendance(\"2023-07-02\", \"absent\")\n",
    "student1.update_attendance(\"2023-07-03\", \"present\")"
   ]
  },
  {
   "cell_type": "code",
   "execution_count": 60,
   "id": "fb5a5245-4f7c-4225-b349-7b57f5fb2d2f",
   "metadata": {},
   "outputs": [
    {
     "data": {
      "text/plain": [
       "{'2023-07-01': 'present', '2023-07-02': 'absent', '2023-07-03': 'present'}"
      ]
     },
     "execution_count": 60,
     "metadata": {},
     "output_type": "execute_result"
    }
   ],
   "source": [
    "student1.get_attendance()"
   ]
  },
  {
   "cell_type": "code",
   "execution_count": 61,
   "id": "25436d89-eaed-4a4a-8f78-162c42c650ff",
   "metadata": {},
   "outputs": [
    {
     "data": {
      "text/plain": [
       "66.66666666666666"
      ]
     },
     "execution_count": 61,
     "metadata": {},
     "output_type": "execute_result"
    }
   ],
   "source": [
    "student1.get_average_attendance()"
   ]
  },
  {
   "cell_type": "code",
   "execution_count": 63,
   "id": "e720b3ce-d88d-4c04-9d08-8485ebe1ab26",
   "metadata": {},
   "outputs": [
    {
     "name": "stdout",
     "output_type": "stream",
     "text": [
      "Average Attendance: 66.66666666666666%\n"
     ]
    }
   ],
   "source": [
    "print(f\"Average Attendance: {student1.get_average_attendance()}%\")"
   ]
  },
  {
   "cell_type": "code",
   "execution_count": null,
   "id": "20d6c3fa-bf34-4f96-be98-6660ebaa7442",
   "metadata": {},
   "outputs": [],
   "source": []
  }
 ],
 "metadata": {
  "kernelspec": {
   "display_name": "Python 3 (ipykernel)",
   "language": "python",
   "name": "python3"
  },
  "language_info": {
   "codemirror_mode": {
    "name": "ipython",
    "version": 3
   },
   "file_extension": ".py",
   "mimetype": "text/x-python",
   "name": "python",
   "nbconvert_exporter": "python",
   "pygments_lexer": "ipython3",
   "version": "3.10.6"
  }
 },
 "nbformat": 4,
 "nbformat_minor": 5
}
