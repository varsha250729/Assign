{
 "cells": [
  {
   "cell_type": "code",
   "execution_count": 1,
   "id": "14ae67a4-ea1d-4751-8a54-91a3f9bbbc73",
   "metadata": {},
   "outputs": [
    {
     "name": "stdout",
     "output_type": "stream",
     "text": [
      "First variable is 10 & second variable is 5.\n",
      "Addition:  = 15\n",
      "Subtraction:  = 5\n",
      "Multiplication:  = 50\n",
      "Division:  = 2.0\n"
     ]
    }
   ],
   "source": [
    "# Q1 Create two int type variables, apply addition, subtraction, division and multiplications and store the results in variables. Then print the data in the following format by calling the variables:\n",
    "\n",
    "#First variable is \t\t& second variable is   .\n",
    "#Addition: \t+ \t= \t\n",
    "#Subtraction: \t- \t\t= \t\n",
    "#Multiplication: \t\t\t* \t\t\t= \t\t\n",
    "#Division: \t/ \t\t= \t\t\n",
    "\n",
    "a=10\n",
    "b=5\n",
    "add_result = a + b\n",
    "subt_result = a - b\n",
    "mult_result = a* b\n",
    "div_result = a / b\n",
    "\n",
    "print(f\"First variable is {a} & second variable is {b}.\")\n",
    "print(f\"Addition:  = {add_result}\")\n",
    "print(f\"Subtraction:  = {subt_result}\")\n",
    "print(f\"Multiplication:  = {mult_result}\")\n",
    "print(f\"Division:  = {div_result}\")"
   ]
  },
  {
   "cell_type": "code",
   "execution_count": null,
   "id": "3a26f13a-9e22-444f-bbdc-c9e8350f934b",
   "metadata": {},
   "outputs": [],
   "source": [
    "#Q.2.\tWhat is the difference between the following operators:\n",
    "#(i)\t‘/’ & ‘//’\n",
    "#(ii)\t‘**’ & ‘^’\n",
    "\n",
    "#Ans:- \n",
    "#i)\t‘/’ & ‘//’\n",
    "#a)\t/ is a division operator . It perform regular division & return quotient as a floating point number.\n",
    "#b)\t// is the floor division operator . It also perform division but it returns only the integer part of the quotient & discards the decimal part of the division.\n",
    "\n",
    "#ii)\t‘**’ & ‘^’\n",
    "#a)\t** is the exponentiation operator . It raises the left operands to the power of the right operand . ex:- 2**3 would result in 8\n",
    "#b)\t^ is used as a bitwise XOR operator.. \n"
   ]
  },
  {
   "cell_type": "code",
   "execution_count": null,
   "id": "968a526d-ac3f-4250-8f12-8b75df747741",
   "metadata": {},
   "outputs": [],
   "source": [
    "#Q.3.\tList the logical operators.\n",
    "#  Ans:-  Following are the common logical operator:-\n",
    "    #        AND operator(and):- Return true if both operands are true.\n",
    "     #       OR operator(or):- Return true if at least one operands is true.\n",
    "     #       Not operator(not):- Return the opposite value of operand.\n"
   ]
  },
  {
   "cell_type": "code",
   "execution_count": 2,
   "id": "21bc6bff-2508-4571-a59b-c846ceeae73a",
   "metadata": {},
   "outputs": [
    {
     "name": "stdout",
     "output_type": "stream",
     "text": [
      "2\n"
     ]
    }
   ],
   "source": [
    "#Q.4.\tExplain right shift operator and left shift operator with examples.\n",
    " # Ans:- Right Shift operator(>>):- The right shift operator shifts the bits a number to the right by a specified number of position .\n",
    "\n",
    "   #         Left Shift operator (<<):-The left shift operator shifts the bits a number to the left by a specified number of position .\n",
    "num = 10   # Binary=1010\n",
    "result= num>>2\n",
    "print(result)\n"
   ]
  },
  {
   "cell_type": "code",
   "execution_count": 4,
   "id": "a535b408-32ef-43e1-ba26-ed2c545f2df0",
   "metadata": {},
   "outputs": [
    {
     "name": "stdout",
     "output_type": "stream",
     "text": [
      "40\n"
     ]
    }
   ],
   "source": [
    "num = 5  # Binary: 00101\n",
    "shifted = num << 3  \n",
    "print(shifted)  \n"
   ]
  },
  {
   "cell_type": "code",
   "execution_count": 6,
   "id": "8f8cfff3-fa85-428a-9826-4f3fdcd64a7d",
   "metadata": {},
   "outputs": [
    {
     "name": "stdout",
     "output_type": "stream",
     "text": [
      "10 is present in the list.\n"
     ]
    }
   ],
   "source": [
    "#Q.5.\tCreate a list containing int type data of length 15. Then write a code to check if 10 is present in the list or not.\n",
    "#Ans:-\n",
    "\n",
    "num_list = [5, 8, 12, 7, 15, 3, 10, 21, 18, 9, 14, 6, 2, 11, 20]\n",
    "\n",
    "\n",
    "if 10 in num_list:\n",
    "    print(\"10 is present in the list.\")\n",
    "else:\n",
    "    print(\"10 is not present in the list.\")"
   ]
  },
  {
   "cell_type": "code",
   "execution_count": null,
   "id": "d177a190-1888-4d69-acb1-38c186be341f",
   "metadata": {},
   "outputs": [],
   "source": []
  }
 ],
 "metadata": {
  "kernelspec": {
   "display_name": "Python 3 (ipykernel)",
   "language": "python",
   "name": "python3"
  },
  "language_info": {
   "codemirror_mode": {
    "name": "ipython",
    "version": 3
   },
   "file_extension": ".py",
   "mimetype": "text/x-python",
   "name": "python",
   "nbconvert_exporter": "python",
   "pygments_lexer": "ipython3",
   "version": "3.10.6"
  }
 },
 "nbformat": 4,
 "nbformat_minor": 5
}
