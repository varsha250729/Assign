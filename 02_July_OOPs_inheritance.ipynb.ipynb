{
 "cells": [
  {
   "cell_type": "code",
   "execution_count": null,
   "id": "e8554062-d480-401f-ab04-e9be4b46c194",
   "metadata": {},
   "outputs": [],
   "source": [
    "#Q1-Explain what inheritance is in object-oriented programming and why it is used.\n",
    "#Ans:- Inheritance is a fundamental concept in object-oriented programming (OOP) that allows one class (the derived or subclass) \n",
    "#to inherit the properties (attributes and methods) of another class (the base or superclass). \n",
    "#Inheritance enables you to create a new class that is based on an existing class, allowing us to reuse and extend the functionality of \n",
    "#the existing class while adding or modifying features specific to the new class.\n",
    "\n",
    "#nheritance is a core principle in OOP that promotes code reuse, hierarchy modeling, specialization,\n",
    "#and maintainability by allowing classes to inherit and extend the properties of other classes."
   ]
  },
  {
   "cell_type": "code",
   "execution_count": null,
   "id": "d63d9fa9-1b09-4385-8b8c-d521a5b8fb1f",
   "metadata": {},
   "outputs": [],
   "source": [
    "# Q2- Discuss the concept of single inheritance and multiple inheritance, highlighting their differences and advantages.\n",
    "# Ans:- \n",
    "#Single Inheritance:\n",
    "#Single inheritance is a type of inheritance in object-oriented programming where a subclass (derived class) inherits from only one superclass (base class). \n",
    "#In single inheritance, a derived class can extend the functionality of a single base class. \n",
    "\n",
    "# Multiple Inheritance:\n",
    "#Multiple inheritance is a type of inheritance where a subclass (derived class) can inherit attributes and methods from more than one superclass (base class). \n",
    "#In multiple inheritance, a derived class can combine features from multiple base classes.\n",
    "#This can be powerful but can also introduce complexities\n",
    "\n",
    "# Differences :-\n",
    "# Single inheritance is simpler to understand and manage, while multiple inheritance can introduce complexities\n",
    "#In multiple inheritance, there can be challenges with name conflicts if two or more base classes have methods or attributes with the same name.\n"
   ]
  },
  {
   "cell_type": "code",
   "execution_count": null,
   "id": "521b77da-7192-449f-ae39-0c967c848cac",
   "metadata": {},
   "outputs": [],
   "source": [
    "# Q3 Explain the terms \"base class\" and \"derived class\" in the context of inheritance.\n",
    "#Base Class:\n",
    "#The base class, also known as the superclass or parent class, is the class that provides the common attributes and methods to one or more subclasses.\n",
    "#It is the class from which other classes inherit their properties.\n",
    "# Derived Class:\n",
    "#The derived class, also known as the subclass or child class, is the class that inherits attributes and methods from a base class.\n",
    "#It extends or specializes the functionality of the base class by adding new attributes and methods or by overriding existing ones"
   ]
  },
  {
   "cell_type": "code",
   "execution_count": null,
   "id": "e0b6b34a-3cdf-48cc-864c-2141aea0712e",
   "metadata": {},
   "outputs": [],
   "source": [
    "# Q4What is the significance of the \"protected\" access modifier in inheritance? How does\n",
    "#it differ from \"private\" and \"public\" modifiers?\n",
    "#Ans:- Protected Access Modifier:\n",
    "#Members declared as \"protected\" are accessible within the same class and its subclasses.\n",
    "#This means that derived classes (subclasses) can access and modify protected members inherited from the base class. \n",
    "#However, instances of the base class or instances of other classes cannot access protected members directly.\n",
    "\n"
   ]
  },
  {
   "cell_type": "code",
   "execution_count": null,
   "id": "9379f207-0814-4786-9de8-0f0de9e829b1",
   "metadata": {},
   "outputs": [],
   "source": [
    "#What is the purpose of the \"super\" keyword in inheritance? Provide an example.\n",
    "#Ans:- the super keyword is used to access and call methods or attributes of the parent or base class within a derived or subclass. \n",
    "#It allows us to refer to the superclass and its elements, enabling us to extend or override functionality while maintaining a connection to the behavior of the parent class.\n"
   ]
  },
  {
   "cell_type": "code",
   "execution_count": 1,
   "id": "7c47a53c-05d8-4245-9b7a-532f3a28b1e5",
   "metadata": {},
   "outputs": [],
   "source": [
    "class Parent:\n",
    "    def greet(self):\n",
    "        print(\"Hello from the Parent class\")\n",
    "\n",
    "class Child(Parent):\n",
    "    def greet(self):\n",
    "        super().greet()  \n",
    "        print(\"Hello from the Child class\")\n",
    "        "
   ]
  },
  {
   "cell_type": "code",
   "execution_count": 2,
   "id": "a7d3b064-92bd-4582-8f0f-1b0a9703e3d3",
   "metadata": {},
   "outputs": [
    {
     "name": "stdout",
     "output_type": "stream",
     "text": [
      "Hello from the Parent class\n",
      "Hello from the Child class\n"
     ]
    }
   ],
   "source": [
    "child = Child()\n",
    "child.greet()"
   ]
  },
  {
   "cell_type": "code",
   "execution_count": 3,
   "id": "fcd10f64-1de9-4efb-8cd2-007ab4bf7dd9",
   "metadata": {},
   "outputs": [],
   "source": [
    "# 6. Create a base class called \"Vehicle\" with attributes like \"make\", \"model\", and \"year\".\n",
    "#Then, create a derived class called \"Car\" that inherits from \"Vehicle\" and adds an\n",
    "#attribute called \"fuel_type\". Implement appropriate methods in both classes.\n",
    "\n",
    "class Vehicle:\n",
    "    def __init__(self, make, model, year):\n",
    "        self.make = make\n",
    "        self.model = model\n",
    "        self.year = year\n",
    "    \n",
    "    def display_info(self):\n",
    "        return f\"{self.year} {self.make} {self.model}\"\n",
    "\n",
    "class Car(Vehicle):\n",
    "    def __init__(self, make, model, year, fuel_type):\n",
    "        super().__init__(make, model, year)\n",
    "        self.fuel_type = fuel_type\n",
    "    \n",
    "    def display_info(self):\n",
    "        base_info = super().display_info()\n",
    "        return f\"{base_info}, Fuel Type: {self.fuel_type}\""
   ]
  },
  {
   "cell_type": "code",
   "execution_count": 5,
   "id": "596a59af-9676-450b-8031-74142d680e46",
   "metadata": {},
   "outputs": [
    {
     "name": "stdout",
     "output_type": "stream",
     "text": [
      "2022 Toyota Corolla, Fuel Type: Gasoline\n"
     ]
    }
   ],
   "source": [
    "car1 = Car(\"Toyota\", \"Corolla\", 2022, \"Gasoline\")\n",
    "\n",
    "\n",
    "print(car1.display_info())"
   ]
  },
  {
   "cell_type": "code",
   "execution_count": 6,
   "id": "6ef25251-c336-4d65-8695-13526fafff91",
   "metadata": {},
   "outputs": [
    {
     "data": {
      "text/plain": [
       "'2023 Tesla Model S, Fuel Type: Electric'"
      ]
     },
     "execution_count": 6,
     "metadata": {},
     "output_type": "execute_result"
    }
   ],
   "source": [
    "car2 = Car(\"Tesla\", \"Model S\", 2023, \"Electric\")\n",
    "car2.display_info()"
   ]
  },
  {
   "cell_type": "code",
   "execution_count": 38,
   "id": "ad2f610e-4a85-42a4-afdb-c8b96b10e2d2",
   "metadata": {},
   "outputs": [],
   "source": [
    "#Create a base class called \"Employee\" with attributes like \"name\" and \"salary.\"\n",
    "#Derive two classes, \"Manager\" and \"Developer,\" from \"Employee.\" Add an additional\n",
    "#attribute called \"department\" for the \"Manager\" class and \"programming_language\"\n",
    "#for the \"Developer\" class.\n",
    "\n",
    "class Employee:\n",
    "    def __init__(self, name, salary):\n",
    "        self.name = name\n",
    "        self.salary = salary\n",
    "    \n",
    "    def display_info(self):\n",
    "        return f\"Name: {self.name}, Salary: {self.salary}\"\n",
    "\n",
    "class Manager(Employee):\n",
    "    def __init__(self, name, salary, department):\n",
    "        super().__init__(name, salary)\n",
    "        self.department = department\n",
    "    \n",
    "    def display_info(self):\n",
    "        base_info = super().display_info()\n",
    "        return f\"{base_info}, Department: {self.department}\"\n",
    "\n",
    "class Developer(Employee):\n",
    "    def __init__(self, name, salary, programming_language):\n",
    "        super().__init__(name, salary)\n",
    "        self.programming_language = programming_language\n",
    "    \n",
    "    def display_info(self):\n",
    "        base_info = super().display_info()\n",
    "        return f\"{base_info}, Programming Language: {self.programming_language}\"\n",
    "\n"
   ]
  },
  {
   "cell_type": "code",
   "execution_count": 43,
   "id": "be9db785-aeb7-4900-8479-a53e18c81e47",
   "metadata": {},
   "outputs": [],
   "source": [
    "manager = Manager(\"Alice\", 120000, \"Engineering\")\n",
    "developer = Developer(\"John Smith\", 70000, \"Python\")\n"
   ]
  },
  {
   "cell_type": "code",
   "execution_count": 44,
   "id": "01b1a1f2-346e-4ca0-8315-956b17979744",
   "metadata": {},
   "outputs": [
    {
     "data": {
      "text/plain": [
       "'Name: Alice, Salary: 120000, Department: Engineering'"
      ]
     },
     "execution_count": 44,
     "metadata": {},
     "output_type": "execute_result"
    }
   ],
   "source": [
    "manager.display_info()"
   ]
  },
  {
   "cell_type": "code",
   "execution_count": 45,
   "id": "d3922b70-d158-49ad-a806-59e3f711edad",
   "metadata": {},
   "outputs": [
    {
     "data": {
      "text/plain": [
       "'Name: John Smith, Salary: 70000, Programming Language: Python'"
      ]
     },
     "execution_count": 45,
     "metadata": {},
     "output_type": "execute_result"
    }
   ],
   "source": [
    "developer.display_info()"
   ]
  },
  {
   "cell_type": "code",
   "execution_count": 52,
   "id": "fc216d82-b181-4662-a5af-a329c6dff93b",
   "metadata": {},
   "outputs": [],
   "source": [
    "#Design a base class called \"Shape\" with attributes like \"colour\" and \"border_width.\"\n",
    "#Create derived classes, \"Rectangle\" and \"Circle,\" that inherit from \"Shape\" and add\n",
    "#specific attributes like \"length\" and \"width\" for the \"Rectangle\" class and \"radius\" for\n",
    "#the \"Circle\" class.\n",
    "\n",
    "class Shape:\n",
    "    def __init__ (self,colour,border_width):\n",
    "        self.colour=colour\n",
    "        self.border_width=border_width\n",
    "        \n",
    "    def display_info(self):\n",
    "        return f\"colour: {self.colour},border width: {self.border_width}\"\n",
    "        \n",
    "class Rectangle(Shape):\n",
    "    def __init__ (self,colour,border_width,length,width):\n",
    "        super().__init__(colour,border_width)\n",
    "        self.length = length\n",
    "        self.width = width\n",
    "            \n",
    "    def display_info(self):\n",
    "        base_info=super().display_info()\n",
    "        return f\"{base_info}, Length:{self.length} & Width:{self.width}\" \n",
    "\n",
    "class Circle(Shape):\n",
    "    def __init__ (self,colour,border_width,radius):\n",
    "        super().__init__(colour,border_width)\n",
    "        self.radius = radius\n",
    "        \n",
    "            \n",
    "    def display_info(self):\n",
    "        base_info=super().display_info()\n",
    "        return f\"{base_info}, radius:{ self.radius} \"\n",
    "    "
   ]
  },
  {
   "cell_type": "code",
   "execution_count": 53,
   "id": "5f1de51c-44f7-441f-927e-4bdb14c4e705",
   "metadata": {},
   "outputs": [],
   "source": [
    "rectangle = Rectangle(\"Blue\", 2, 10, 5)\n",
    "circle = Circle(\"Red\", 1, 7)\n"
   ]
  },
  {
   "cell_type": "code",
   "execution_count": 54,
   "id": "7242fde0-6a4c-4986-97e0-e571a71985c4",
   "metadata": {},
   "outputs": [
    {
     "data": {
      "text/plain": [
       "'colour: Blue,border width: 2, Length:10 & Width:5'"
      ]
     },
     "execution_count": 54,
     "metadata": {},
     "output_type": "execute_result"
    }
   ],
   "source": [
    "rectangle.display_info()"
   ]
  },
  {
   "cell_type": "code",
   "execution_count": 55,
   "id": "04c166d9-c90e-4b38-bdcf-1b2bf1061ea2",
   "metadata": {},
   "outputs": [
    {
     "data": {
      "text/plain": [
       "'colour: Red,border width: 1, radius:7 '"
      ]
     },
     "execution_count": 55,
     "metadata": {},
     "output_type": "execute_result"
    }
   ],
   "source": [
    "circle.display_info()"
   ]
  },
  {
   "cell_type": "code",
   "execution_count": 77,
   "id": "562049a7-c4b0-44c6-a2de-5afe39fd6c59",
   "metadata": {},
   "outputs": [],
   "source": [
    "#Q-9 Create a base class called \"Device\" with attributes like \"brand\" and \"model.\" Derive\n",
    "#two classes, \"Phone\" and \"Tablet,\" from \"Device.\" Add specific attributes like\n",
    "#\"screen_size\" for the \"Phone\" class and \"battery_capacity\" for the \"Tablet\" class.\n",
    "\n",
    "class Device():\n",
    "    \n",
    "    def __init__(self,brand,model):\n",
    "        \n",
    "        self.brand=brand\n",
    "        self.model=model\n",
    "    \n",
    "    def display_info(self):\n",
    "        return f\"{self.brand},{self.model}\"\n",
    "        \n",
    "\n",
    "class Phone(Device):\n",
    "    \n",
    "    def __init__(self,brand,model,screen_size):\n",
    "        super().__init__(brand,model)\n",
    "        self.screen_size=screen_size\n",
    "    \n",
    "    def display_info(self):\n",
    "        base_info=super().display_info()\n",
    "        return f\" {self.brand},{self.model},Screen Size:{self.screen_size}\"\n",
    "\n",
    "class Tablet(Device):\n",
    "    def __init__(self, brand, model, battery_capacity):\n",
    "        super().__init__(brand, model)\n",
    "        self.battery_capacity = battery_capacity\n",
    "    \n",
    "    def display_info(self):\n",
    "        base_info = super().display_info()\n",
    "        return f\"{base_info}, Battery Capacity: {self.battery_capacity}\"\n",
    "    \n",
    "    \n",
    "    "
   ]
  },
  {
   "cell_type": "code",
   "execution_count": 78,
   "id": "adfe6fca-99e7-4a81-95cc-1852b9863077",
   "metadata": {},
   "outputs": [],
   "source": [
    "phone= Phone(\"Samsung\",\"galaxy\",\"5 inches\")\n",
    "tablet = Tablet(\"Samsung\", \"Galaxy Tab S7\", \"8000 mAh\")"
   ]
  },
  {
   "cell_type": "code",
   "execution_count": 76,
   "id": "96a0c3f1-4e11-48ac-af4e-aff968001d5a",
   "metadata": {},
   "outputs": [
    {
     "data": {
      "text/plain": [
       "' Samsung,galaxy,Screen Size:5 inches'"
      ]
     },
     "execution_count": 76,
     "metadata": {},
     "output_type": "execute_result"
    }
   ],
   "source": [
    "phone.display_info()"
   ]
  },
  {
   "cell_type": "code",
   "execution_count": 79,
   "id": "154d9027-26bf-457f-b8dc-d692b2cf0d6c",
   "metadata": {},
   "outputs": [
    {
     "data": {
      "text/plain": [
       "'Samsung,Galaxy Tab S7, Battery Capacity: 8000 mAh'"
      ]
     },
     "execution_count": 79,
     "metadata": {},
     "output_type": "execute_result"
    }
   ],
   "source": [
    "tablet.display_info()"
   ]
  },
  {
   "cell_type": "code",
   "execution_count": 94,
   "id": "c25ffbd8-1965-4fc1-af6d-1f2f32d67685",
   "metadata": {},
   "outputs": [],
   "source": [
    "#Q10 Create a base class called \"BankAccount\" with attributes like \"account_number\" and\n",
    "#\"balance.\" Derive two classes, \"SavingsAccount\" and \"CheckingAccount,\" from\n",
    "#\"BankAccount.\" Add specific methods like \"calculate_interest\" for the\n",
    "#\"SavingsAccount\" class and \"deduct_fees\" for the \"CheckingAccount\" class.\n",
    "\n",
    "class BankAccount:\n",
    "    def __init__(self, account_number, balance):\n",
    "        self.account_number = account_number\n",
    "        self.balance = balance\n",
    "    \n",
    "    def display_info(self):\n",
    "        return f\"Account Number: {self.account_number}, Balance: {self.balance}\"\n",
    "\n",
    "class SavingsAccount(BankAccount):\n",
    "    def __init__(self, account_number, balance, interest_rate):\n",
    "        super().__init__(account_number, balance)\n",
    "        self.interest_rate = interest_rate\n",
    "    \n",
    "    def calculate_interest(self):\n",
    "        interest = self.balance * (self.interest_rate / 100)\n",
    "        self.balance += interest\n",
    "        return interest\n",
    "        \n",
    "class CheckingAccount(BankAccount):\n",
    "    def __init__(self, account_number, balance, fee_per_transaction):\n",
    "        super().__init__(account_number, balance)\n",
    "        self.fee_per_transaction = fee_per_transaction\n",
    "    \n",
    "    def deduct_fees(self, num_transactions):\n",
    "        total_fees = self.fee_per_transaction * num_transactions\n",
    "        self.balance -= total_fees\n",
    "        return total_fees\n"
   ]
  },
  {
   "cell_type": "code",
   "execution_count": 95,
   "id": "7ffd1d64-0177-4220-9cc9-73eb968645c6",
   "metadata": {},
   "outputs": [],
   "source": [
    "savings_account = SavingsAccount(\"3755090374\", 1000, 2.5)\n",
    "interest_earned = savings_account.calculate_interest()\n",
    "checking_account = CheckingAccount(\"987654321\", 1500, 0.5)\n",
    "fees_deducted = checking_account.deduct_fees(5)"
   ]
  },
  {
   "cell_type": "code",
   "execution_count": 92,
   "id": "da132cbd-ae74-4dfb-be72-cc8ed8ac3f9e",
   "metadata": {},
   "outputs": [
    {
     "name": "stdout",
     "output_type": "stream",
     "text": [
      "Account Number: 3755090374, Balance: 1025.0\n"
     ]
    }
   ],
   "source": [
    "print(savings_account.display_info()) "
   ]
  },
  {
   "cell_type": "code",
   "execution_count": 93,
   "id": "68c44567-e5c6-4ea7-9fc0-e2e544c24ca2",
   "metadata": {},
   "outputs": [
    {
     "name": "stdout",
     "output_type": "stream",
     "text": [
      "Interest Earned: 25.0\n"
     ]
    }
   ],
   "source": [
    "\n",
    "print(f\"Interest Earned: {interest_earned}\")"
   ]
  },
  {
   "cell_type": "code",
   "execution_count": 96,
   "id": "9baa041b-290d-453f-869d-ce984808f3d9",
   "metadata": {},
   "outputs": [
    {
     "name": "stdout",
     "output_type": "stream",
     "text": [
      "Account Number: 987654321, Balance: 1497.5\n"
     ]
    }
   ],
   "source": [
    "print(checking_account.display_info())"
   ]
  },
  {
   "cell_type": "code",
   "execution_count": 97,
   "id": "55eb48e7-a419-4f3c-8f5c-c4bb20a81ebf",
   "metadata": {},
   "outputs": [
    {
     "name": "stdout",
     "output_type": "stream",
     "text": [
      "Fees Deducted: 2.5\n"
     ]
    }
   ],
   "source": [
    "print(f\"Fees Deducted: {fees_deducted}\")"
   ]
  },
  {
   "cell_type": "code",
   "execution_count": null,
   "id": "20383936-804c-4423-a039-bf4a21e6e169",
   "metadata": {},
   "outputs": [],
   "source": []
  }
 ],
 "metadata": {
  "kernelspec": {
   "display_name": "Python 3 (ipykernel)",
   "language": "python",
   "name": "python3"
  },
  "language_info": {
   "codemirror_mode": {
    "name": "ipython",
    "version": 3
   },
   "file_extension": ".py",
   "mimetype": "text/x-python",
   "name": "python",
   "nbconvert_exporter": "python",
   "pygments_lexer": "ipython3",
   "version": "3.10.6"
  }
 },
 "nbformat": 4,
 "nbformat_minor": 5
}
